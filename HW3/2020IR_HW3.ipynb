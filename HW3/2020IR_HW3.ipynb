{
 "cells": [
  {
   "cell_type": "code",
   "execution_count": 10,
   "metadata": {},
   "outputs": [
    {
     "name": "stdout",
     "output_type": "stream",
     "text": [
      "1\n",
      "123 2 3\n",
      "2\n",
      "0.5\n"
     ]
    }
   ],
   "source": [
    "num_query = input()\n",
    "all_score = 0.0\n",
    "for i in range(int(num_query)):\n",
    "    score = 0.0\n",
    "    find_list = []## all list\n",
    "    pred_list = [] ## all pred score\n",
    "    pos_list = [] ##all score changed pos \n",
    "    relevant_list = {} ## all relevant\n",
    "    all_find = input() ##所有query結果\n",
    "    all_find_split = all_find.split() ## list all find\n",
    "    for j in all_find_split:\n",
    "        find_list.append(j) ## 建list\n",
    "        pred_list.append(0)\n",
    "    relevant = input()\n",
    "    all_relevant_split = relevant.split() ## list all find\n",
    "    for j in all_relevant_split:\n",
    "        relevant_list[j] = 0 ## 建dict 比較好查找\n",
    "    now_pos = 0\n",
    "    correct = 0 ##對幾個\n",
    "    count = 0\n",
    "    for j in range(len(find_list)):\n",
    "        count += 1\n",
    "        if(find_list[j] in relevant_list):\n",
    "            correct += 1\n",
    "            for k in range(count-now_pos):\n",
    "                pred_list[now_pos+k] = correct/count\n",
    "            now_pos = j+1\n",
    "            pos_list.append(j)\n",
    "    for j in range(len(pos_list)):\n",
    "        score += pred_list[pos_list[j]]\n",
    "    if len(pos_list)!=0:\n",
    "        score /= len(all_relevant_split) \n",
    "    all_score += score\n",
    "all_score/=int(num_query)\n",
    "print(round(all_score,4))"
   ]
  },
  {
   "cell_type": "code",
   "execution_count": 13,
   "metadata": {},
   "outputs": [
    {
     "name": "stdout",
     "output_type": "stream",
     "text": [
      "1\n",
      "123 2 3\n",
      "2\n",
      "0.5\n"
     ]
    }
   ],
   "source": [
    "if __name__ == '__main__':\n",
    "    N = int(input())\n",
    "    document, relevant = [], []\n",
    "    for i in range(N):\n",
    "        document.append(input())\n",
    "        relevant.append(input())\n",
    "\n",
    "    MAP = 0.0\n",
    "    for index in range(N):\n",
    "        relevant_list = {}\n",
    "        precision = relevant[index].split()\n",
    "        for j in precision:\n",
    "            relevant_list[j] = 0\n",
    "        score = 0.0\n",
    "        ans = 0\n",
    "        doc = document[index].split(' ')\n",
    "\n",
    "        for i in range(len(doc)):\n",
    "            if doc[i] in relevant_list:\n",
    "                ans += 1\n",
    "                score += ans / (i+1)\n",
    "\n",
    "        MAP += score / len(precision)\n",
    "\n",
    "    MAP /= N\n",
    "    MAP = round(MAP, 4)\n",
    "    print(MAP)"
   ]
  }
 ],
 "metadata": {
  "kernelspec": {
   "display_name": "Python 3",
   "language": "python",
   "name": "python3"
  },
  "language_info": {
   "codemirror_mode": {
    "name": "ipython",
    "version": 3
   },
   "file_extension": ".py",
   "mimetype": "text/x-python",
   "name": "python",
   "nbconvert_exporter": "python",
   "pygments_lexer": "ipython3",
   "version": "3.7.4"
  }
 },
 "nbformat": 4,
 "nbformat_minor": 2
}
